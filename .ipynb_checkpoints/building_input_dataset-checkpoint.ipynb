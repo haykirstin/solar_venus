{
 "cells": [
  {
   "cell_type": "markdown",
   "metadata": {},
   "source": [
    "## Create training data set\n",
    "\n",
    "Toolkit to transform the grid of stellar atmosphere model inputs to a uniform data set of inputs for training the neural network model."
   ]
  },
  {
   "cell_type": "markdown",
   "metadata": {},
   "source": [
    "Firstly import the packages required..."
   ]
  },
  {
   "cell_type": "code",
   "execution_count": null,
   "metadata": {
    "collapsed": true
   },
   "outputs": [],
   "source": [
    "% pylab inline\n",
    "import numpy as np\n",
    "\n",
    "from scipy.interpolate import UnivariateSpline, interp1d\n",
    "from scipy.integrate import simps\n",
    "\n",
    "from astropy.io import fits\n",
    "from astropy.utils.console import ProgressBar\n",
    "\n",
    "import pandas as pd\n",
    "\n",
    "import matplotlib.pylab as plt\n",
    "import seaborn as sb"
   ]
  },
  {
   "cell_type": "markdown",
   "metadata": {},
   "source": [
    "The steps required\n",
    "\n",
    "- Build a function for one stellar atmosphere model\n",
    "    - to convolve with each bandpass\n",
    "    - integrate over wavelength\n",
    "    - for each given mu angle\n",
    "    - correct for radius definition\n",
    "- Loop through all of the atmosphere models\n",
    "- Export to file"
   ]
  },
  {
   "cell_type": "markdown",
   "metadata": {},
   "source": [
    "Firstly, let's define the stellar radius correction as the mu from the atmosphere models with the highest intensity gradient"
   ]
  },
  {
   "cell_type": "code",
   "execution_count": null,
   "metadata": {
    "collapsed": true
   },
   "outputs": [],
   "source": [
    "def new_get_rmax(mu,I0):\n",
    "    # convert mu to r\n",
    "    r = np.sqrt(1.-(mu**2.))\n",
    "    \n",
    "    # find the maximum derivative point\n",
    "    i = np.argmax(abs(np.diff(I0)/np.diff(r)))\n",
    "    \n",
    "    # make radius correction to values inside new radius\n",
    "    r_new  = r[i:]/r[i]\n",
    "    mu_new = np.sqrt(1-r_new**2)\n",
    "    \n",
    "    ip_new = I0[i:]\n",
    "    return r_new, mu_new, ip_new, r[i], mu[i]"
   ]
  },
  {
   "cell_type": "markdown",
   "metadata": {},
   "source": [
    "Secondly let's define our table of bandpasses to use for convolving with the model stellar atmospheres"
   ]
  },
  {
   "cell_type": "code",
   "execution_count": null,
   "metadata": {
    "collapsed": true
   },
   "outputs": [],
   "source": [
    "transmission = {'Kp' : './response_functions/kepler_response.txt',\n",
    "                'S1' : './response_functions/spitzer_1.txt',\n",
    "                'S2' : './response_functions/spitzer_2.txt',\n",
    "                'S3' : './response_functions/spitzer_3.txt',\n",
    "                'S4' : './response_functions/spitzer_4.txt',\n",
    "                'u'  : './response_functions/Stroemgren_u.txt',\n",
    "                'v'  : './response_functions/Stroemgren_v.txt',\n",
    "                'b'  : './response_functions/Stroemgren_b.txt',\n",
    "                'y'  : './response_functions/Stroemgren_y.txt',\n",
    "                'U'  : './response_functions/Bessel_U-1.txt',\n",
    "                'V'  : './response_functions/Bessel_V-1.txt',\n",
    "                'B'  : './response_functions/Bessel_B-1.txt',\n",
    "                'R'  : './response_functions/Bessel_R-1.txt',\n",
    "                'I'  : './response_functions/Bessel_I-1.txt',\n",
    "                'J'  : './response_functions/2MASS_Jband.txt',\n",
    "                'H'  : './response_functions/2MASS_Hband.txt',\n",
    "                'K'  : './response_functions/2MASS_Kband.txt',\n",
    "                'u_' : './response_functions/SDSS_u.txt',\n",
    "                'g_' : './response_functions/SDSS_g.txt',\n",
    "                'r_' : './response_functions/SDSS_r.txt',\n",
    "                'i_' : './response_functions/SDSS_i.txt',\n",
    "                'z_' : './response_functions/SDSS_z.txt',\n",
    "                'vT' : './response_functions/v_tycho.txt',\n",
    "                'bT' : './response_functions/b_tycho.txt',\n",
    "                'Cp' : './response_functions/cheops.txt'\n",
    "               }\n",
    "filters = {}\n",
    "for filt in transmission:\n",
    "    filters[filt] = np.loadtxt(transmission[filt])\n"
   ]
  },
  {
   "cell_type": "markdown",
   "metadata": {},
   "source": [
    "Now the definition of retreiving the required information from the model atmosphere"
   ]
  },
  {
   "cell_type": "code",
   "execution_count": null,
   "metadata": {
    "collapsed": true
   },
   "outputs": [],
   "source": [
    "def read_PHOENIX(chosen_path):\n",
    "    with fits.open(chosen_path) as f:\n",
    "        I = (f[0].data)/100.\n",
    "        mu = f['MU'].data\n",
    "        CRVAL1 = f[0].header['CRVAL1']\n",
    "        CDELT1 = f[0].header['CDELT1']\n",
    "        teff = f[0].header['PHXTEFF']\n",
    "        logg = f[0].header['PHXLOGG']\n",
    "        feh = f[0].header['PHXM_H']\n",
    "    wavelengths = (np.arange(I.shape[1]) * CDELT1 + CRVAL1)/10. # convert to nm to match response functions\n",
    "    return wavelengths, I, mu, teff, logg, feh"
   ]
  },
  {
   "cell_type": "markdown",
   "metadata": {},
   "source": [
    "Locate all the atmosphere models, with the list of paths stored in: `model_list`"
   ]
  },
  {
   "cell_type": "code",
   "execution_count": null,
   "metadata": {
    "collapsed": true
   },
   "outputs": [],
   "source": [
    "model_list = []\n",
    "model_list.extend(glob.glob('../phoenix2011/Z-0.0/*.fits'))\n",
    "model_list.extend(glob.glob('../phoenix2011/Z-0.5/*.fits'))\n",
    "model_list.extend(glob.glob('../phoenix2011/Z-1.0/*.fits'))\n",
    "model_list.extend(glob.glob('../phoenix2011/Z-1.5/*.fits'))\n",
    "model_list.extend(glob.glob('../phoenix2011/Z-2.0/*.fits'))\n",
    "model_list.extend(glob.glob('../phoenix2011/Z-3.0/*.fits'))\n",
    "model_list.extend(glob.glob('../phoenix2011/Z-4.0/*.fits'))\n",
    "model_list.extend(glob.glob('../phoenix2011/Z+0.5/*.fits'))\n",
    "model_list.extend(glob.glob('../phoenix2011/Z+1.0/*.fits'))\n",
    "print(\"Number of models found: \",len(model_list))"
   ]
  },
  {
   "cell_type": "markdown",
   "metadata": {},
   "source": [
    "Since the calculated wavelengths in each model atmosphere output file are the same, we can save some time by interpolating the bandpasses for each filter to match the PHOENIX model output for the convolution and integration step. The interpolated bandpasses are then stored in the dictionary, `filt_int`."
   ]
  },
  {
   "cell_type": "code",
   "execution_count": null,
   "metadata": {
    "collapsed": true
   },
   "outputs": [],
   "source": [
    "with fits.open(model_list[0]) as f:\n",
    "    CRVAL1 = f[0].header['CRVAL1']\n",
    "    CDELT1 = f[0].header['CDELT1']\n",
    "    NAXIS1 = f[0].header['NAXIS1']\n",
    "initial_wavelengths = ((np.arange(NAXIS1) * CDELT1) + CRVAL1)/10. #convert to nm \n",
    "\n",
    "\n",
    "filt_int = {}\n",
    "for filt in filters:\n",
    "    filt_int[filt] = np.interp(initial_wavelengths,filters[filt][:,0],filters[filt][:,1])"
   ]
  },
  {
   "cell_type": "markdown",
   "metadata": {},
   "source": [
    "Now we can produce the grid itself"
   ]
  },
  {
   "cell_type": "code",
   "execution_count": null,
   "metadata": {
    "collapsed": true
   },
   "outputs": [],
   "source": [
    "columns = ['Teff','logg','Z','Filt','mu','intensity','mu_fac','r_fac']\n",
    "\n",
    "grid1 = []\n",
    "grid2 = []\n",
    "\n",
    "with ProgressBar(len(model_list), ipython_widget=False) as bar:\n",
    "    for item in model_list:\n",
    "        wavelengths, I, mu, teff, logg, feh = read_PHOENIX(item)\n",
    "\n",
    "        for filt in filters:\n",
    "            filt_spec = (I * filt_int[filt]).T\n",
    "\n",
    "            flux = []\n",
    "            for j in range(mu.shape[0]):\n",
    "                flux.append(simps(filt_spec[:,j],wavelengths))\n",
    "\n",
    "            flux = flux/(flux[-1])\n",
    "            flux = np.array(flux)\n",
    "            \n",
    "            new_r,new_mu,new_I0,r_fac,mu_fac = new_get_rmax(mu,flux)\n",
    "            \n",
    "            even_mus = np.linspace(new_mu.min(),1,200)\n",
    "            interp_I = interp1d(new_mu,new_I0,kind='quadratic',assume_sorted=True)(even_mus)\n",
    "            \n",
    "            for q in range(mu.shape[0]):\n",
    "                grid1.append([teff,logg,feh,filt,mu[q],flux[q],mu_fac,r_fac])\n",
    "\n",
    "            for s in range(evener_mus.shape[0]):\n",
    "                grid2.append([teff,logg,feh,filt,even_mus[s],interp_I[s],mu_fac,r_fac])\n",
    "\n",
    "        bar.update()"
   ]
  },
  {
   "cell_type": "code",
   "execution_count": null,
   "metadata": {
    "collapsed": true
   },
   "outputs": [],
   "source": [
    "df = pd.DataFrame(data=grid1,columns=columns)\n",
    "df2 = pd.DataFrame(data=grid2,columns=columns)\n",
    "df.to_csv('phoenix_intensity_table.csv')\n",
    "df2.to_csv('phoenix_intensity_table_resampled.csv')"
   ]
  }
 ],
 "metadata": {
  "kernelspec": {
   "display_name": "Python 3",
   "language": "python",
   "name": "python3"
  },
  "language_info": {
   "codemirror_mode": {
    "name": "ipython",
    "version": 3
   },
   "file_extension": ".py",
   "mimetype": "text/x-python",
   "name": "python",
   "nbconvert_exporter": "python",
   "pygments_lexer": "ipython3",
   "version": "3.5.4"
  }
 },
 "nbformat": 4,
 "nbformat_minor": 2
}
